{
 "cells": [
  {
   "cell_type": "code",
   "execution_count": 1,
   "id": "b3c93bcd",
   "metadata": {},
   "outputs": [
    {
     "data": {
      "text/plain": [
       "'%.4f'"
      ]
     },
     "execution_count": 1,
     "metadata": {},
     "output_type": "execute_result"
    }
   ],
   "source": [
    "import psychrolib as ps #DOI  10.5281/zendi.2537945\n",
    "ps.SetUnitSystem(ps.SI)\n",
    "%precision 4"
   ]
  },
  {
   "cell_type": "markdown",
   "id": "a8d509c3",
   "metadata": {},
   "source": [
    "# Experiment #1: Ventilated volume\n",
    "\n",
    "### Assumptions:\n",
    "\n",
    "1. Air and steam as ideal gases\n",
    "1. the entire msplus (sprayed water) evaporates\n",
    "1. air mass keeps the same\n",
    "1. Isoenthalpy process\n",
    "1. 3x3x3 m room"
   ]
  },
  {
   "cell_type": "code",
   "execution_count": 2,
   "id": "17aa404e",
   "metadata": {},
   "outputs": [],
   "source": [
    "def agrega_agua(T_init, rh_init, Patm, Volumen=3 , dh2o = 0.0001):\n",
    "    \n",
    "    \"\"\"agrega_agua(T_init, rh_init, masl=0, Volumen=3 , dh2o = 0.0001)\n",
    "    \n",
    "    Compute and return the dry bulb temperature and relative humidity after spraying da amount of water in the air of certain space.\n",
    "    This reduction in the temperature is a product of Evaporative cooling effect. This function alone can drive to errors, its complementary \n",
    "    to the function \"Final temp\". \n",
    "    \n",
    "    Inputs:\n",
    "    -T_init:   dry buld temperature (°C) of the air at initial state.\n",
    "    -rh_init:  relative humidity fraction (0-1) of the aire at initial state.\n",
    "    -masl:     altitud of the geographical (MASL) place where this effect is taking place.\n",
    "    -Volumen:  total volumen (m^3)of the space.\n",
    "    -dh2o:     total amount of water (kg) evaporated in the space\n",
    "    \n",
    "    Outputs:\n",
    "    (T_fin, rh_fin, Patm, msteam_init, mdryair_init, h)\n",
    "    -T_fin:       final temperature of the saturated air.\n",
    "    -rh_fin:      final relative humidity fraction (0-1) of the saturated air, \n",
    "    -Patm:        atmospheric pressure (Pa).\n",
    "    -msteam_init: steam mass of the air at inicial state.\n",
    "    -dryair_init: dry air mass of the ait at inicial state.\n",
    "    -h:           air Enthalpy.\n",
    "    \"\"\"\n",
    "    \n",
    "    Rv       =  461.5       \n",
    "    Rda      =  ps.R_DA_SI  \n",
    "    T_initk  =  T_init + 273.15\n",
    "    \n",
    "    w_init, _ , _ ,Psteam_init,h, _ , _ = ps.CalcPsychrometricsFromRelHum(T_init, rh_init, Patm)\n",
    "    \n",
    "    Pdryair_init  =  Patm - Psteam_init\n",
    "    mdryair_init  =  Pdryair_init * Volumen / (Rda * T_initk) \n",
    "    msteam_init   =  Psteam_init  * Volumen / (Rv  * T_initk)  \n",
    "    mair_init     =  mdryair_init + msteam_init  \n",
    "    \n",
    "    w_fin        =  (msteam_init + dh2o) / mdryair_init\n",
    "    Psteam_fin   =  ps.GetVapPresFromHumRatio(w_fin, Patm)\n",
    "    T_fin        =  ps.GetTDryBulbFromEnthalpyAndHumRatio(h, w_fin)\n",
    "    rh_fin       =  ps.GetRelHumFromVapPres(T_fin, Psteam_fin)\n",
    "\n",
    "    return T_fin, rh_fin, w_fin, Patm, msteam_init, mdryair_init, h"
   ]
  },
  {
   "cell_type": "code",
   "execution_count": 3,
   "id": "e1892b14",
   "metadata": {
    "scrolled": true
   },
   "outputs": [
    {
     "name": "stdout",
     "output_type": "stream",
     "text": [
      "Se evaporaron 3.573346947E-01 kg del agua añadida\n",
      "No se evaporaron 1.426653053E-01 kg del agua añadida\n",
      "La temperatura final es de 21.92°C\n",
      "La humedad relativa final es de 100%\n"
     ]
    },
    {
     "data": {
      "text/plain": [
       "(21.9000, 100, 0.5000)"
      ]
     },
     "execution_count": 3,
     "metadata": {},
     "output_type": "execute_result"
    }
   ],
   "source": [
    "def FinalTemp(T_initial, rh_initial, Patm, delta_h2o = 0.01, Volumen=3):\n",
    "    \n",
    "    \"\"\"FinalTemp(T_initial, rh_initial, Patm, delta_h2o = 0.01, masl=0, Volumen=3):\n",
    "    \n",
    "    Compute and return the final dry bulb temperature and the relative humidity of saturate air, and the amount of water \n",
    "    evaporated by evaporative cooling used to saturate air.\n",
    "    \n",
    "    Inputs:\n",
    "    -T_initial:  dry buld temperature (°C) of the air in initial state (before evaporative cooling)\n",
    "    -rh_initial: relative humidity fraction (0-1) of the aire in initial state\n",
    "    -delta_h2o:  total amount of water (kg) evaporated in the space\n",
    "    -masl:       altitud of the geographical (MASL) place where this effect is taking place\n",
    "    -Volumen:    total volumen (m^3)of the space.\n",
    "    \n",
    "    Outputs:\n",
    "    (T_final, rh_final, H2oEvaporada, H2oNoEvaporada)\n",
    "    -T_final:  final temperature of the saturated air\n",
    "    -rh_final: final relative humidity fraction (0-1) of the saturated air, \n",
    "    -H2oEvaporada: Amount of water (kg) evaporated during the process\n",
    "    -H2oNoEvaporada: Amount of water (kg) that didn´t evaporate\n",
    "    \"\"\"\n",
    "    \n",
    "    Rv         =   461.5       \n",
    "    Rda        =   ps.R_DA_SI \n",
    "    T_initialK =   T_initial + 273.15\n",
    "\n",
    "    if delta_h2o == 0:\n",
    "        T_final        =  T_initial\n",
    "        rh_final       =  rh_initial\n",
    "        w_final        =  ps.GetHumRatioFromRelHum(T_final, rh_final,Patm)\n",
    "        H2oEvaporada   =  0\n",
    "        H2oNoEvaporada =  0\n",
    "        \n",
    "        print(f\"Se evaporaron {H2oEvaporada} kg de agua añadida\")\n",
    "        print(f\"No se evaporaron {H2oNoEvaporada} kg del agua añadida\")\n",
    "    \n",
    "    else:\n",
    "        w_initial , _ , dp_initial , Psteam_initial, h1, _ , _ = ps.CalcPsychrometricsFromRelHum(T_initial, rh_initial, Patm)\n",
    "        Pdryair_initial   =  Patm - Psteam_initial\n",
    "        mdryair_initial   =  Pdryair_initial * Volumen / (Rda * (T_initialK))\n",
    "        msteam_initial    =  Psteam_initial  * Volumen / (Rv  * (T_initialK))\n",
    "        round(msteam_initial, 5)\n",
    "\n",
    "        HR0 = rh_initial\n",
    "        T0  = T_initial\n",
    "        while HR0 <1:\n",
    "            T1, HR1, w1, Patm, msteam, mdryair, h = agrega_agua(T0,HR0,Patm,Volumen,0.0000000000000000001)\n",
    "            if HR1 >1:\n",
    "                break\n",
    "            T0    = T1\n",
    "            HR0   = HR1\n",
    "            \n",
    "        w_sat,_,dpt_sat,Psteam_sat,h_sat,_,_ = ps.CalcPsychrometricsFromRelHum(T0, 1, Patm)\n",
    "        Pdryair_sat  =  Patm - Psteam_sat\n",
    "        mdryair_sat  =  Pdryair_sat * Volumen / (Rda * (T0 + 273.15))\n",
    "        msteam_sat   =  Psteam_sat  * Volumen / (Rv  * (T0 + 273.15))\n",
    "        msteam_sat   =  round(msteam_sat,5)\n",
    "        \n",
    "        \n",
    "        if delta_h2o < (msteam_sat - msteam_initial):\n",
    "            T_final, rh_final, w_final, Patm, msteam, mdryair, h = agrega_agua(T_initial,rh_initial,Patm,Volumen,delta_h2o)\n",
    "            if  rh_final   >  1:\n",
    "                T_final    =  T0\n",
    "                rh_final   =  1\n",
    "                w_final    =  w_sat\n",
    "                H2oEvaporada   = format(delta_h2o, \".9E\")\n",
    "                H2oNoEvaporada = 0\n",
    "                \n",
    "                print(f\"Se evaporaron {H2oEvaporada} kg del agua añadida\")\n",
    "                print(f\"No se evaporaron {H2oNoEvaporada} kg del agua añadida\")\n",
    "    \n",
    "            else:\n",
    "                H2oEvaporada   = format(delta_h2o, \".9E\")\n",
    "                H2oNoEvaporada = 0\n",
    "                \n",
    "                print(f\"Se evaporaron {H2oEvaporada} kg del agua añadida\")\n",
    "                print(f\"No se evaporaron {H2oNoEvaporada} kg del agua añadida\")\n",
    "                \n",
    "        else:\n",
    "            T_final        =   T0\n",
    "            rh_final       =   1\n",
    "            w_final        =   w_sat\n",
    "            H2oEvaporada   =   format(msteam_sat - msteam_initial, \".9E\")\n",
    "            H2oNoEvaporada =   format(delta_h2o  - (msteam_sat - msteam_initial), \".9E\")\n",
    "            \n",
    "            print(f\"Se evaporaron {H2oEvaporada} kg del agua añadida\")\n",
    "            print(f\"No se evaporaron {H2oNoEvaporada} kg del agua añadida\")\n",
    "         \n",
    "    print(f\"La temperatura final es de {round(T_final,2)}°C\")\n",
    "    print(f\"La humedad relativa final es de {round((rh_final*100),2)}%\")\n",
    "    \n",
    "    return T_final, rh_final, round(w_final,6), H2oEvaporada, H2oNoEvaporada\n",
    "\n",
    "\n",
    "\n",
    "#Ejemplo\n",
    "T0       = 30\n",
    "HR0      = 0.5\n",
    "Patm     = 101325\n",
    "Vol      = 86\n",
    "\n",
    "H2o      = 0.5\n",
    "Tf, rf, _, _,_ = FinalTemp(T0, HR0, Patm, H2o, Vol)\n",
    "round(Tf,1), round(rf,3)*100, H2o "
   ]
  }
 ],
 "metadata": {
  "kernelspec": {
   "display_name": "Python 3 (ipykernel)",
   "language": "python",
   "name": "python3"
  },
  "language_info": {
   "codemirror_mode": {
    "name": "ipython",
    "version": 3
   },
   "file_extension": ".py",
   "mimetype": "text/x-python",
   "name": "python",
   "nbconvert_exporter": "python",
   "pygments_lexer": "ipython3",
   "version": "3.13.2"
  }
 },
 "nbformat": 4,
 "nbformat_minor": 5
}
