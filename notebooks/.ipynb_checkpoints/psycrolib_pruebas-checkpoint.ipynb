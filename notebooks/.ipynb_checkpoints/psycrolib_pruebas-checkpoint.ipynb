{
 "cells": [
  {
   "cell_type": "code",
   "execution_count": 1,
   "id": "0f373559",
   "metadata": {
    "scrolled": true
   },
   "outputs": [
    {
     "name": "stdout",
     "output_type": "stream",
     "text": [
      "Requirement already satisfied: PsychroLib in c:\\wpy64-31050\\python-3.10.5.amd64\\lib\\site-packages (2.5.0)\n",
      "Note: you may need to restart the kernel to use updated packages.\n"
     ]
    }
   ],
   "source": [
    "pip install PsychroLib"
   ]
  },
  {
   "cell_type": "code",
   "execution_count": 2,
   "id": "d98c77a4",
   "metadata": {},
   "outputs": [],
   "source": [
    "import psychrolib as ps\n",
    "#When using PsychroLib, please cite the software summary paper and software version using the following Digital Object Identifiers (DOIs) to generate citations in your preferred style:\n",
    "#DOI  10.5281/zendi.2537945\n",
    "\n",
    "#Copyright\n",
    "#\n",
    "#For the current library implementation\n",
    "#Copyright (c) 2018-2020 The PsychroLib Contributors.\n",
    "#\n",
    "#For equations and coefficients published ASHRAE Handbook — Fundamentals, Chapter 1\n",
    "#Copyright (c) 2017 ASHRAE Handbook — Fundamentals (https://www.ashrae.org)"
   ]
  },
  {
   "cell_type": "code",
   "execution_count": 3,
   "id": "fcf289ec",
   "metadata": {},
   "outputs": [],
   "source": [
    "#This function HAS TO BE CALLED before the library can be used\n",
    "ps.SetUnitSystem(ps.SI)"
   ]
  },
  {
   "cell_type": "code",
   "execution_count": 4,
   "id": "59c8f36c",
   "metadata": {},
   "outputs": [],
   "source": [
    "ps.GetUnitSystem()\n",
    "\n",
    "#Maximum number of iterations before exiting while loops:\n",
    "ps.MAX_ITER_COUNT = 100"
   ]
  },
  {
   "cell_type": "markdown",
   "id": "0ac56723",
   "metadata": {},
   "source": [
    "## ¿Qué puede hacer?\n",
    "\n",
    "1. Convertir sistemas de unidades\n",
    "1. psychrolib.GetTWetBulbFromTDewPoint (TDryBulb, TDewPoint, Pressure)\n",
    "1. psychrolib.GetTWetBulbFromRelHum(TDryBulb, RelHum, Pressure)\n",
    "1. psychrolib.GetRelHumFromTDewPoint(TDryBulb, TDewPoint)\n",
    "1. psychrolib.GetRelHumFromTWetBulb(TDryBulb, TWetBulb, Pressure)\n",
    "1. psychrolib.GetTDewPointFromRelHum(TDryBulb, RelHum)\n",
    "1. psychrolib.GetTDewPointFromTWetBulb(TDryBulb, TWetBulb, Pressure)\n",
    "1. psychrolib.GetVapPresFromRelHum(TDryBulb, RelHum)\n",
    "1. psychrolib.GetRelHumFromVapPres(TDryBulb, VapPres)\n",
    "1. psychrolib.dLnPws_(TDryBulb)\n",
    "1. psychrolib.GetTDewPointFromVapPres(TDryBulb, VapPres)\n",
    "1. psychrolib.GetVapPresFromTDewPoint(TDewPoint)\n",
    "1. psychrolib.GetTWetBulbFromHumRatio(TDryBulb, HumRatio, Pressure)\n",
    "1. psychrolib.GetHumRatioFromTWetBulb(TDryBulb, TWetBulb, Pressure)\n",
    "1. psychrolib.GetHumRatioFromRelHum(TDryBulb, RelHum, Pressure)\n",
    "1. psychrolib.GetRelHumFromHumRatio(TDryBulb, HumRatio, Pressure)\n",
    "1. psychrolib.GetHumRatioFromVapPres(VapPres, Pressure)\n",
    "1. psychrolib.GetSatAirEnthalpy(TDryBulb, Pressure)\n",
    "1. psychrolib.GetDegreeOfSaturation(TDryBulb, HumRatio, Pressure)\n",
    "1. psychrolib.GetStandardAtmPressure(Altitude)\n",
    "1. psychrolib.GetStandardAtmTemperature(Altitude)\n",
    "1. psychrolib.CalcPsychrometricsFromTWetBulb(TDryBulb, TWetBulb, Pressure)\n",
    "1. psychrolib.CalcPsychrometricsFromRelHum"
   ]
  },
  {
   "cell_type": "code",
   "execution_count": 5,
   "id": "e0236f9d",
   "metadata": {},
   "outputs": [
    {
     "data": {
      "text/plain": [
       "287.042"
      ]
     },
     "execution_count": 5,
     "metadata": {},
     "output_type": "execute_result"
    }
   ],
   "source": [
    "ps.R_DA_SI"
   ]
  },
  {
   "cell_type": "code",
   "execution_count": 6,
   "id": "dcf68084",
   "metadata": {},
   "outputs": [
    {
     "data": {
      "text/plain": [
       "611.6700000000001"
      ]
     },
     "execution_count": 6,
     "metadata": {},
     "output_type": "execute_result"
    }
   ],
   "source": [
    "ps.GetTRankineFromTFahrenheit(152)"
   ]
  },
  {
   "cell_type": "code",
   "execution_count": 7,
   "id": "7db903dc",
   "metadata": {},
   "outputs": [
    {
     "data": {
      "text/plain": [
       "151.53000000000003"
      ]
     },
     "execution_count": 7,
     "metadata": {},
     "output_type": "execute_result"
    }
   ],
   "source": [
    "ps.GetTFahrenheitFromTRankine(611.2)"
   ]
  },
  {
   "cell_type": "code",
   "execution_count": 8,
   "id": "7529e677",
   "metadata": {},
   "outputs": [
    {
     "data": {
      "text/plain": [
       "273.15"
      ]
     },
     "execution_count": 8,
     "metadata": {},
     "output_type": "execute_result"
    }
   ],
   "source": [
    "ps.GetTKelvinFromTCelsius(0)\n",
    "                                  "
   ]
  },
  {
   "cell_type": "code",
   "execution_count": 9,
   "id": "7cbe0567",
   "metadata": {},
   "outputs": [
    {
     "data": {
      "text/plain": [
       "0.0"
      ]
     },
     "execution_count": 9,
     "metadata": {},
     "output_type": "execute_result"
    }
   ],
   "source": [
    "ps.GetTCelsiusFromTKelvin(273.15)\n",
    "                                  "
   ]
  },
  {
   "cell_type": "code",
   "execution_count": null,
   "id": "266a8548",
   "metadata": {},
   "outputs": [],
   "source": []
  },
  {
   "cell_type": "code",
   "execution_count": null,
   "id": "940cbd3d",
   "metadata": {},
   "outputs": [],
   "source": []
  }
 ],
 "metadata": {
  "kernelspec": {
   "display_name": "Python 3 (ipykernel)",
   "language": "python",
   "name": "python3"
  },
  "language_info": {
   "codemirror_mode": {
    "name": "ipython",
    "version": 3
   },
   "file_extension": ".py",
   "mimetype": "text/x-python",
   "name": "python",
   "nbconvert_exporter": "python",
   "pygments_lexer": "ipython3",
   "version": "3.10.5"
  }
 },
 "nbformat": 4,
 "nbformat_minor": 5
}
