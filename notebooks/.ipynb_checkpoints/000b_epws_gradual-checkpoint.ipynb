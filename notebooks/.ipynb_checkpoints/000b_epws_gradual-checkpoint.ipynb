{
 "cells": [
  {
   "cell_type": "code",
   "execution_count": 1,
   "id": "e720624e",
   "metadata": {},
   "outputs": [
    {
     "name": "stderr",
     "output_type": "stream",
     "text": [
      "C:\\WPy64-31050\\python-3.10.5.amd64\\lib\\site-packages\\numpy\\_distributor_init.py:30: UserWarning: loaded more than 1 DLL from .libs:\n",
      "C:\\WPy64-31050\\python-3.10.5.amd64\\lib\\site-packages\\numpy\\.libs\\libopenblas.EL2C6PLE4ZYW3ECEVIV3OXXGRN2NRFM2.gfortran-win_amd64.dll\n",
      "C:\\WPy64-31050\\python-3.10.5.amd64\\lib\\site-packages\\numpy\\.libs\\libopenblas.FB5AE2TYXYH2IJRDKGDGQ3XBKLKTF43H.gfortran-win_amd64.dll\n",
      "  warnings.warn(\"loaded more than 1 DLL from .libs:\"\n"
     ]
    }
   ],
   "source": [
    "import pandas as pd\n",
    "import psychrolib as ps #DOI  10.5281/zendi.2537945\n",
    "ps.SetUnitSystem(ps.SI)\n",
    "import numpy as np\n",
    "import glob as glob\n",
    "import matplotlib.pyplot as plt\n",
    "from dateutil.parser import parse"
   ]
  },
  {
   "cell_type": "code",
   "execution_count": 2,
   "id": "cfad55da",
   "metadata": {
    "scrolled": true
   },
   "outputs": [],
   "source": [
    "def epw(inicio, final, freq, To, HR, ws, wd, masl=1247):\n",
    "\n",
    "\n",
    "    data      = pd.DataFrame(index=pd.date_range(inicio, final, freq=freq), columns=[\"year\", \"month\", \"day\",\n",
    "                                                                                     \"hour\", \"minute\",\n",
    "                                                                                     \"To\", \"HR\", \"Patm\",\"ws\", \"wd\", \n",
    "                                                                                     \"horzirsky\", \"glohorzrad\",\n",
    "                                                                                     \"dirnorzrad\", \"difhorzrad\", \n",
    "                                                                                    ])\n",
    "    data.year   = data.index.year\n",
    "    data.month  = data.index.month\n",
    "    data.day    = data.index.day\n",
    "    data.hour   = data.index.hour\n",
    "    data.minute = data.index.minute\n",
    "\n",
    "    data.Patm   = ps.GetStandardAtmPressure(masl)\n",
    "    data.To     = To\n",
    "    data.HR     = HR\n",
    "    data.ws     = ws\n",
    "    \n",
    "    ###Valores default de radiación\n",
    "    data.horzirsky    = 0\n",
    "    data.glohorzrad   = 0\n",
    "    data.dirnorzrad   = 0\n",
    "    data.difhorzrad   = 0\n",
    "    \n",
    "    \n",
    "\n",
    "    deg       = [0, 90, 180, 270]\n",
    "    direction = [\"North\", \"East\", \"South\", \"West\"]\n",
    "\n",
    "    for i in np.arange(4):\n",
    "        if direction[i] == wd:\n",
    "            data.wd  = deg[i]\n",
    "\n",
    "    data.drop(data.index[-1], inplace=True)\n",
    "    return data"
   ]
  },
  {
   "cell_type": "code",
   "execution_count": 3,
   "id": "46b44abd",
   "metadata": {},
   "outputs": [],
   "source": [
    "def epw_progre(periodo1, periodo2, freq, T1, T2, HR1, HR2, ws1, ws2, wd1, wd2, variable, paso, Masl=1247):\n",
    "               \n",
    "    data1 = epw(periodo1[0], periodo1[1], freq, T1, HR1, ws1, wd1, masl=Masl)\n",
    "    dato1 = data1[variable].iloc[0]\n",
    "    \n",
    "    data2 = epw(periodo2[0], periodo2[1], freq, T2, HR2, ws2, wd2, masl=Masl)\n",
    "    dato2 = data2[variable].iloc[0]\n",
    "    \n",
    "    data = pd.concat([data1, data2],axis=0)\n",
    "    \n",
    "    delta   = (dato2-dato1)/paso\n",
    "    lista1  = [dato1 for i in np.arange(len(data1))]\n",
    "    lista2  = [dato1+i for i in np.arange(delta,(dato2-dato1)+delta,delta)]\n",
    "    lista3  = [dato2 for i in np.arange(len(data2)-len(lista2))]\n",
    "    lista   = lista1 + lista2 + lista3\n",
    "\n",
    "    data[variable] = lista \n",
    "    \n",
    "    return data\n"
   ]
  },
  {
   "cell_type": "code",
   "execution_count": 4,
   "id": "6bcb6b7a",
   "metadata": {},
   "outputs": [],
   "source": [
    "def epw_progre_const(periodo1, hasta, freq, T1, T2, HR1, HR2, ws1, ws2, wd1, wd2, tconstante,delta,variable,Masl=1247):\n",
    "    \n",
    "    data = epw(periodo1[0], periodo1[1], freq, T1, HR1, ws1, wd1)\n",
    "    fecha1 = parse(periodo1[1])\n",
    "    \n",
    "    \n",
    "    if variable == \"ws\":\n",
    "        for i in np.arange(0.1,0.5+0.1,0.1):\n",
    "            fecha1 = [fecha1 + pd.Timedelta(f\"{j}min\") for j in np.arange(0,tconstante+1)]\n",
    "            data1  = epw(str(fecha1[0]),str(fecha1[-1]), freq, T1, HR1, ws1+i, wd1 )\n",
    "            \n",
    "            data   = pd.concat([data, data1],axis=0)\n",
    "            fecha1 = fecha1[-1]\n",
    "    else:\n",
    "        for i in np.arange(1,delta+1):\n",
    "            fecha1 = [fecha1 + pd.Timedelta(f\"{j}min\") for j in np.arange(0,tconstante+1)]\n",
    "            if variable == \"rh\":\n",
    "                data1  = epw(str(fecha1[0]),str(fecha1[-1]), freq, T1, HR1+i, ws1, wd1 )\n",
    "            if variable == \"T\":\n",
    "                data1  = epw(str(fecha1[0]),str(fecha1[-1]), freq, T1+i, HR1, ws1, wd1 )\n",
    "\n",
    "            data   = pd.concat([data, data1],axis=0)\n",
    "            fecha1 = fecha1[-1]\n",
    "\n",
    "    data2 = epw(str(data.index[-1]+pd.Timedelta(\"1min\")), hasta[0], freq, T2, HR2, ws2, wd1)\n",
    "    data  = pd.concat([data, data2],axis=0)\n",
    "    \n",
    "    return data\n"
   ]
  },
  {
   "cell_type": "markdown",
   "id": "3320bb13",
   "metadata": {},
   "source": [
    "### Experimentos"
   ]
  },
  {
   "cell_type": "markdown",
   "id": "febf5618",
   "metadata": {},
   "source": [
    "#### Exp1. Base"
   ]
  },
  {
   "cell_type": "code",
   "execution_count": 5,
   "id": "533179c1",
   "metadata": {},
   "outputs": [],
   "source": [
    "inicio = \"2018-01-01 00:00:00\"\n",
    "final  = \"2018-01-20 00:00:00\"\n",
    "freq   = \"1min\"\n",
    "To     = 23\n",
    "HR     = 23\n",
    "ws     = 0.5\n",
    "wd     = \"West\"\n",
    "data1  = epw(inicio, final, freq, To, HR, ws, wd)\n",
    "\n",
    "inicio = \"2018-01-20 00:00:00\"\n",
    "final  = \"2018-02-01 00:00:00\"\n",
    "freq   = \"1min\"\n",
    "To     = 23\n",
    "HR     = 23\n",
    "ws     = 0.5\n",
    "wd     = \"West\"\n",
    "data2  = epw(inicio, final, freq, To, HR, ws, wd)\n",
    "\n",
    "data = pd.concat([data1, data2],axis=0)\n",
    "data.to_csv(f\"../data/epw_Base23_ws0p5.csv\",header=False, index=False)"
   ]
  },
  {
   "cell_type": "markdown",
   "id": "f393d749",
   "metadata": {},
   "source": [
    "#### Exp2. HR"
   ]
  },
  {
   "cell_type": "code",
   "execution_count": 6,
   "id": "943a7c55",
   "metadata": {},
   "outputs": [
    {
     "data": {
      "image/png": "[encoded data removed]",
      "text/plain": [
       "<Figure size 1008x288 with 1 Axes>"
      ]
     },
     "metadata": {
      "needs_background": "light"
     },
     "output_type": "display_data"
    }
   ],
   "source": [
    "Periodo1   = [\"2018-01-01 00:00:00\", \"2018-01-20 00:00:00\"]\n",
    "Hasta      = [\"2018-02-01 00:00:00\"]\n",
    "freq       = \"1min\"\n",
    "tconstante = 15\n",
    "delta      = 7  #HR2-HR1\n",
    "inter      = 1\n",
    "\n",
    "\n",
    "T1   = 23\n",
    "T2   = 23\n",
    "HR1  = 23\n",
    "HR2  = 30\n",
    "ws1  = 0\n",
    "ws2  = 0\n",
    "wd1  = \"West\"\n",
    "wd2  = \"West\"\n",
    "\n",
    "\n",
    "data_HR = epw_progre_const(Periodo1, Hasta, freq, T1, T2, HR1, HR2, ws1, ws2, wd1, wd2, tconstante, delta, \"rh\")\n",
    "\n",
    "fecha1    = parse(\"2018-01-19 23:58:00\")\n",
    "timedelta = \"120min\"\n",
    "fecha2    = fecha1 + pd.Timedelta(timedelta)\n",
    "fig, ax = plt.subplots(figsize=(14,4))\n",
    "ax.plot(data_HR.HR, \".\")\n",
    "ax.set_xlim(fecha1,fecha2)\n",
    "\n",
    "data_HR.to_csv(f\"../data/epw_rh{HR1}_{HR2}_gradual.csv\", header=False, index=False)"
   ]
  },
  {
   "cell_type": "markdown",
   "id": "eec95ddc",
   "metadata": {},
   "source": [
    "#### Exp3. T"
   ]
  },
  {
   "cell_type": "code",
   "execution_count": 12,
   "id": "2c940f55",
   "metadata": {},
   "outputs": [
    {
     "data": {
      "image/png": "[encoded data removed]",
      "text/plain": [
       "<Figure size 1008x288 with 1 Axes>"
      ]
     },
     "metadata": {
      "needs_background": "light"
     },
     "output_type": "display_data"
    }
   ],
   "source": [
    "Periodo1   = [\"2018-01-01 00:00:00\", \"2018-01-20 00:00:00\"]\n",
    "Hasta      = [\"2018-02-01 00:00:00\"]\n",
    "freq       = \"1min\"\n",
    "tconstante = 15\n",
    "delta      = 7  #T2-T1\n",
    "\n",
    "T1   = 23\n",
    "T2   = 30\n",
    "HR1  = 23\n",
    "HR2  = 23\n",
    "ws1  = 0\n",
    "ws2  = 0\n",
    "wd1  = \"West\"\n",
    "wd2  = \"West\"\n",
    "data_T = epw_progre_const(Periodo1, Hasta, freq, T1, T2, HR1, HR2, ws1, ws2, wd1, wd2, tconstante, delta, \"T\")\n",
    "\n",
    "\n",
    "fecha1    = parse(\"2018-01-19 23:58:00\")\n",
    "timedelta = \"350min\"\n",
    "fecha2    = fecha1 + pd.Timedelta(timedelta)\n",
    "\n",
    "fig, ax = plt.subplots(figsize=(14,4))\n",
    "ax.plot(data_T.To, \".\")\n",
    "ax.set_xlim(fecha1,fecha2)\n",
    "\n",
    "data_T.to_csv(f\"../data/epw_T{T1}_{T2}_gradual.csv\", header=False, index=False)"
   ]
  },
  {
   "cell_type": "markdown",
   "id": "18c7424f",
   "metadata": {},
   "source": [
    "#### Exp4. ws"
   ]
  },
  {
   "cell_type": "code",
   "execution_count": 13,
   "id": "e6367baa",
   "metadata": {},
   "outputs": [
    {
     "data": {
      "image/png": "[encoded data removed]",
      "text/plain": [
       "<Figure size 1008x288 with 1 Axes>"
      ]
     },
     "metadata": {
      "needs_background": "light"
     },
     "output_type": "display_data"
    }
   ],
   "source": [
    "Periodo1   = [\"2018-01-01 00:00:00\", \"2018-01-20 00:00:00\"]\n",
    "Hasta      = [\"2018-02-01 00:00:00\"]\n",
    "freq       = \"1min\"\n",
    "tconstante = 15\n",
    "delta      = 0.5  \n",
    "\n",
    "T1   = 23\n",
    "T2   = 23\n",
    "HR1  = 23\n",
    "HR2  = 23\n",
    "ws1  = 0\n",
    "ws2  = 0.5\n",
    "wd1  = \"West\"\n",
    "wd2  = \"West\"\n",
    "data_ws = epw_progre_const(Periodo1, Hasta, freq, T1, T2, HR1, HR2, ws1, ws2, wd1, wd2, tconstante, delta, \"ws\")\n",
    "\n",
    "\n",
    "fecha1    = parse(\"2018-01-19 23:58:00\")\n",
    "timedelta = \"200min\"\n",
    "fecha2    = fecha1 + pd.Timedelta(timedelta)\n",
    "\n",
    "fig, ax = plt.subplots(figsize=(14,4))\n",
    "ax.plot(data_ws.ws, \".\")\n",
    "ax.set_xlim(fecha1,fecha2)\n",
    "data_ws.to_csv(f\"../data/epw_ws{ws1}_{ws2}_gradual.csv\", header=False, index=False)"
   ]
  },
  {
   "cell_type": "markdown",
   "id": "3576541c",
   "metadata": {},
   "source": [
    "#### Exp5. T_HR\n"
   ]
  },
  {
   "cell_type": "code",
   "execution_count": 14,
   "id": "0d0f4efb",
   "metadata": {},
   "outputs": [
    {
     "data": {
      "image/png": "[encoded data removed]",
      "text/plain": [
       "<Figure size 1008x288 with 2 Axes>"
      ]
     },
     "metadata": {
      "needs_background": "light"
     },
     "output_type": "display_data"
    }
   ],
   "source": [
    "data_T_HR    = data\n",
    "data_T_HR.To = data_T.To\n",
    "data_T_HR.HR = data_HR.HR\n",
    "\n",
    "fecha1    = parse(\"2018-01-19 23:58:00\")\n",
    "timedelta = \"250min\"\n",
    "fecha2    = fecha1 + pd.Timedelta(timedelta)\n",
    "\n",
    "fig, ax = plt.subplots(1,2, figsize=(14,4))\n",
    "ax[0].plot(data_T_HR.To, \".\")\n",
    "ax[0].set_xlim(fecha1,fecha2)\n",
    "\n",
    "ax[1].plot(data_T_HR.HR, \".\")\n",
    "ax[1].set_xlim(fecha1,fecha2)\n",
    "\n",
    "data_T_HR.to_csv(f\"../data/epw_T{data_T_HR.To[0]}_{data_T_HR.To[-1]}_HR_{data_T_HR.HR[0]}_{data_T_HR.HR[-1]}_gradual.csv\", header=False, index=False)"
   ]
  },
  {
   "cell_type": "markdown",
   "id": "ea2f0cd0",
   "metadata": {},
   "source": [
    "#### Exp.6 T_ws"
   ]
  },
  {
   "cell_type": "code",
   "execution_count": 10,
   "id": "1d92394a",
   "metadata": {},
   "outputs": [
    {
     "data": {
      "image/png": "[encoded data removed]",
      "text/plain": [
       "<Figure size 1008x288 with 2 Axes>"
      ]
     },
     "metadata": {
      "needs_background": "light"
     },
     "output_type": "display_data"
    }
   ],
   "source": [
    "data_T_ws    = data\n",
    "data_T_ws.To = data_T.To\n",
    "data_T_ws.ws = data_ws.ws\n",
    "\n",
    "fecha1    = parse(\"2018-01-19 23:58:00\")\n",
    "timedelta = \"250min\"\n",
    "fecha2    = fecha1 + pd.Timedelta(timedelta)\n",
    "\n",
    "fig, ax = plt.subplots(1,2, figsize=(14,4))\n",
    "ax[0].plot(data_T_ws.To, \".\")\n",
    "ax[0].set_xlim(fecha1,fecha2)\n",
    "\n",
    "ax[1].plot(data_T_ws.ws, \".\")\n",
    "ax[1].set_xlim(fecha1,fecha2)\n",
    "data_T_ws.to_csv(f\"../data/epw_T{data_T_ws.To[0]}_{data_T_ws.To[-1]}_ws_{data_T_ws.ws[0]}_{data_T_ws.ws[-1]}_gradual.csv\", header=False, index=False)"
   ]
  },
  {
   "cell_type": "markdown",
   "id": "90301c10",
   "metadata": {},
   "source": [
    "#### Exp.7 HR_ws"
   ]
  },
  {
   "cell_type": "code",
   "execution_count": 11,
   "id": "8c291bd8",
   "metadata": {},
   "outputs": [
    {
     "data": {
      "image/png": "[encoded data removed]",
      "text/plain": [
       "<Figure size 1008x288 with 2 Axes>"
      ]
     },
     "metadata": {
      "needs_background": "light"
     },
     "output_type": "display_data"
    }
   ],
   "source": [
    "data_HR_ws    = data\n",
    "data_HR_ws.HR = data_HR.HR\n",
    "data_HR_ws.ws = data_ws.ws\n",
    "\n",
    "fecha1    = parse(\"2018-01-19 23:58:00\")\n",
    "timedelta = \"250min\"\n",
    "fecha2    = fecha1 + pd.Timedelta(timedelta)\n",
    "\n",
    "fig, ax = plt.subplots(1,2, figsize=(14,4))\n",
    "ax[0].plot(data_HR_ws.HR, \".\")\n",
    "ax[0].set_xlim(fecha1,fecha2)\n",
    "\n",
    "ax[1].plot(data_HR_ws.ws, \".\")\n",
    "ax[1].set_xlim(fecha1,fecha2)\n",
    "\n",
    "data_HR_ws.to_csv(f\"../data/epw_HR{data_HR_ws.HR[0]}_{data_HR_ws.HR[-1]}_ws_{data_HR_ws.ws[0]}_{data_HR_ws.ws[-1]}_gradual.csv\", header=False, index=False)"
   ]
  },
  {
   "cell_type": "markdown",
   "id": "3c380bf6",
   "metadata": {},
   "source": [
    "#### Exp.8 T_HR_ws"
   ]
  },
  {
   "cell_type": "code",
   "execution_count": 12,
   "id": "fbd520f5",
   "metadata": {},
   "outputs": [
    {
     "data": {
      "image/png": "[encoded data removed]",
      "text/plain": [
       "<Figure size 1008x288 with 3 Axes>"
      ]
     },
     "metadata": {
      "needs_background": "light"
     },
     "output_type": "display_data"
    }
   ],
   "source": [
    "data_T_HR_ws    = data\n",
    "data_T_HR_ws.To = data_T.To\n",
    "data_T_HR_ws.HR = data_HR.HR\n",
    "data_T_HR_ws.ws = data_ws.ws\n",
    "\n",
    "fecha1    = parse(\"2018-01-19 23:58:00\")\n",
    "timedelta = \"250min\"\n",
    "fecha2    = fecha1 + pd.Timedelta(timedelta)\n",
    "\n",
    "fig, ax = plt.subplots(1,3, figsize=(14,4))\n",
    "ax[0].plot(data_T_HR_ws.To, \".\")\n",
    "ax[0].set_xlim(fecha1,fecha2)\n",
    "\n",
    "ax[1].plot(data_T_HR_ws.HR, \".\")\n",
    "ax[1].set_xlim(fecha1,fecha2)\n",
    "\n",
    "ax[2].plot(data_T_HR_ws.ws, \".\")\n",
    "ax[2].set_xlim(fecha1,fecha2)\n",
    "\n",
    "data_T_HR_ws.to_csv(f\"../data/epw_T{data_T_HR_ws.To[0]}_{data_T_HR_ws.To[-1]}_HR{data_T_HR_ws.HR[0]}_{data_T_HR_ws.HR[-1]}_ws{data_T_HR_ws.ws[0]}_{data_T_HR_ws.ws[-1]}_gradual.csv\", header=False, index=False)"
   ]
  },
  {
   "cell_type": "code",
   "execution_count": null,
   "id": "15d50c71",
   "metadata": {},
   "outputs": [],
   "source": []
  }
 ],
 "metadata": {
  "kernelspec": {
   "display_name": "Python 3 (ipykernel)",
   "language": "python",
   "name": "python3"
  },
  "language_info": {
   "codemirror_mode": {
    "name": "ipython",
    "version": 3
   },
   "file_extension": ".py",
   "mimetype": "text/x-python",
   "name": "python",
   "nbconvert_exporter": "python",
   "pygments_lexer": "ipython3",
   "version": "3.13.2"
  }
 },
 "nbformat": 4,
 "nbformat_minor": 5
}
